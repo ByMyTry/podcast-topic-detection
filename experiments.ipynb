{
 "cells": [
  {
   "cell_type": "markdown",
   "metadata": {},
   "source": [
    "## Распознование текста из микрофона"
   ]
  },
  {
   "cell_type": "code",
   "execution_count": 24,
   "metadata": {},
   "outputs": [
    {
     "name": "stdout",
     "output_type": "stream",
     "text": [
      "Requirement already satisfied: SpeechRecognition in ./py3_env/lib/python3.6/site-packages\n",
      "Requirement already satisfied: PyAudio in ./py3_env/lib/python3.6/site-packages\n"
     ]
    }
   ],
   "source": [
    "!py3_env/bin/pip install SpeechRecognition\n",
    "!py3_env/bin/pip install PyAudio"
   ]
  },
  {
   "cell_type": "code",
   "execution_count": 16,
   "metadata": {},
   "outputs": [],
   "source": [
    "import speech_recognition as sr"
   ]
  },
  {
   "cell_type": "code",
   "execution_count": 52,
   "metadata": {},
   "outputs": [],
   "source": [
    "recognizer = sr.Recognizer()"
   ]
  },
  {
   "cell_type": "code",
   "execution_count": 13,
   "metadata": {},
   "outputs": [],
   "source": [
    "recognizer.listen??"
   ]
  },
  {
   "cell_type": "code",
   "execution_count": 53,
   "metadata": {},
   "outputs": [
    {
     "name": "stdout",
     "output_type": "stream",
     "text": [
      "1\n",
      "2\n"
     ]
    }
   ],
   "source": [
    "with sr.Microphone() as micro:\n",
    "    print(1)\n",
    "    audio = recognizer.listen(micro)\n",
    "    print(2)"
   ]
  },
  {
   "cell_type": "code",
   "execution_count": 54,
   "metadata": {},
   "outputs": [],
   "source": [
    "with open('data/microphone-results.wav', \"wb\") as f:\n",
    "    f.write(audio.get_wav_data())"
   ]
  },
  {
   "cell_type": "code",
   "execution_count": 56,
   "metadata": {},
   "outputs": [
    {
     "data": {
      "text/plain": [
       "'this is a sound detection chick 111 detection check'"
      ]
     },
     "execution_count": 56,
     "metadata": {},
     "output_type": "execute_result"
    }
   ],
   "source": [
    "recognizer.recognize_google(audio, language='en-EN')"
   ]
  },
  {
   "cell_type": "markdown",
   "metadata": {},
   "source": [
    "## Распознование текста из аудиофайла"
   ]
  },
  {
   "cell_type": "code",
   "execution_count": 31,
   "metadata": {},
   "outputs": [],
   "source": [
    "recognizer = sr.Recognizer()"
   ]
  },
  {
   "cell_type": "code",
   "execution_count": 58,
   "metadata": {},
   "outputs": [],
   "source": [
    "with sr.AudioFile('data/microphone-results.wav') as source:\n",
    "    audio1 = recognizer.record(source)"
   ]
  },
  {
   "cell_type": "code",
   "execution_count": 59,
   "metadata": {},
   "outputs": [
    {
     "data": {
      "text/plain": [
       "'this is a sound detection chick 111 detection check'"
      ]
     },
     "execution_count": 59,
     "metadata": {},
     "output_type": "execute_result"
    }
   ],
   "source": [
    "recognizer.recognize_google(audio1, language='en-EN')"
   ]
  },
  {
   "cell_type": "markdown",
   "metadata": {},
   "source": [
    "## Text topic extraction"
   ]
  },
  {
   "cell_type": "code",
   "execution_count": 36,
   "metadata": {},
   "outputs": [
    {
     "name": "stdout",
     "output_type": "stream",
     "text": [
      "Requirement already satisfied: spacy in ./py3_env/lib/python3.6/site-packages\n",
      "Requirement already satisfied: plac<1.0.0,>=0.9.6 in ./py3_env/lib/python3.6/site-packages (from spacy)\n",
      "Requirement already satisfied: preshed<2.1.0,>=2.0.1 in ./py3_env/lib/python3.6/site-packages (from spacy)\n",
      "Requirement already satisfied: numpy>=1.15.0 in ./py3_env/lib/python3.6/site-packages (from spacy)\n",
      "Requirement already satisfied: thinc<6.13.0,>=6.12.1 in ./py3_env/lib/python3.6/site-packages (from spacy)\n",
      "Requirement already satisfied: dill<0.3,>=0.2 in ./py3_env/lib/python3.6/site-packages (from spacy)\n",
      "Requirement already satisfied: cymem<2.1.0,>=2.0.2 in ./py3_env/lib/python3.6/site-packages (from spacy)\n",
      "Requirement already satisfied: murmurhash<1.1.0,>=0.28.0 in ./py3_env/lib/python3.6/site-packages (from spacy)\n",
      "Requirement already satisfied: regex==2018.01.10 in ./py3_env/lib/python3.6/site-packages (from spacy)\n",
      "Requirement already satisfied: ujson>=1.35 in ./py3_env/lib/python3.6/site-packages (from spacy)\n",
      "Requirement already satisfied: requests<3.0.0,>=2.13.0 in ./py3_env/lib/python3.6/site-packages (from spacy)\n",
      "Requirement already satisfied: cytoolz<0.10,>=0.9.0 in ./py3_env/lib/python3.6/site-packages (from thinc<6.13.0,>=6.12.1->spacy)\n",
      "Requirement already satisfied: msgpack-numpy<0.4.4 in ./py3_env/lib/python3.6/site-packages (from thinc<6.13.0,>=6.12.1->spacy)\n",
      "Requirement already satisfied: msgpack<0.6.0,>=0.5.6 in ./py3_env/lib/python3.6/site-packages (from thinc<6.13.0,>=6.12.1->spacy)\n",
      "Requirement already satisfied: wrapt<1.11.0,>=1.10.0 in ./py3_env/lib/python3.6/site-packages (from thinc<6.13.0,>=6.12.1->spacy)\n",
      "Requirement already satisfied: tqdm<5.0.0,>=4.10.0 in ./py3_env/lib/python3.6/site-packages (from thinc<6.13.0,>=6.12.1->spacy)\n",
      "Requirement already satisfied: six<2.0.0,>=1.10.0 in ./py3_env/lib/python3.6/site-packages (from thinc<6.13.0,>=6.12.1->spacy)\n",
      "Requirement already satisfied: urllib3<1.25,>=1.21.1 in ./py3_env/lib/python3.6/site-packages (from requests<3.0.0,>=2.13.0->spacy)\n",
      "Requirement already satisfied: idna<2.9,>=2.5 in ./py3_env/lib/python3.6/site-packages (from requests<3.0.0,>=2.13.0->spacy)\n",
      "Requirement already satisfied: chardet<3.1.0,>=3.0.2 in ./py3_env/lib/python3.6/site-packages (from requests<3.0.0,>=2.13.0->spacy)\n",
      "Requirement already satisfied: certifi>=2017.4.17 in ./py3_env/lib/python3.6/site-packages (from requests<3.0.0,>=2.13.0->spacy)\n",
      "Requirement already satisfied: toolz>=0.8.0 in ./py3_env/lib/python3.6/site-packages (from cytoolz<0.10,>=0.9.0->thinc<6.13.0,>=6.12.1->spacy)\n"
     ]
    }
   ],
   "source": [
    "!py3_env/bin/pip install spacy\n",
    "!py3_env/bin/pip install pymorphy2"
   ]
  },
  {
   "cell_type": "code",
   "execution_count": 37,
   "metadata": {},
   "outputs": [],
   "source": [
    "import spacy"
   ]
  },
  {
   "cell_type": "code",
   "execution_count": 39,
   "metadata": {},
   "outputs": [],
   "source": [
    "# spacy.load('ru')"
   ]
  },
  {
   "cell_type": "code",
   "execution_count": 60,
   "metadata": {},
   "outputs": [],
   "source": [
    "from spacy.lang.en import English"
   ]
  },
  {
   "cell_type": "code",
   "execution_count": 61,
   "metadata": {},
   "outputs": [],
   "source": [
    "parser = English()\n",
    "\n",
    "def tokenize(text):\n",
    "    lda_tokens = []\n",
    "    tokens = parser(text)\n",
    "    for token in tokens:\n",
    "        if token.orth_.isspace():\n",
    "            continue\n",
    "        elif token.like_url:\n",
    "            lda_tokens.append('URL')\n",
    "        elif token.orth_.startswith('@'):\n",
    "            lda_tokens.append('SCREEN_NAME')\n",
    "        else:\n",
    "            lda_tokens.append(token.lower_)\n",
    "    return lda_tokens"
   ]
  },
  {
   "cell_type": "code",
   "execution_count": 63,
   "metadata": {},
   "outputs": [
    {
     "data": {
      "text/plain": [
       "['this', 'is', 'a', 'sound', 'detection', 'chick', '111', 'detection', 'check']"
      ]
     },
     "execution_count": 63,
     "metadata": {},
     "output_type": "execute_result"
    }
   ],
   "source": [
    "text = recognizer.recognize_google(audio, language='en-EN')\n",
    "tokenize(text)"
   ]
  },
  {
   "cell_type": "code",
   "execution_count": 46,
   "metadata": {},
   "outputs": [
    {
     "name": "stdout",
     "output_type": "stream",
     "text": [
      "Requirement already satisfied: nltk in ./py3_env/lib/python3.6/site-packages\r\n",
      "Requirement already satisfied: singledispatch in ./py3_env/lib/python3.6/site-packages (from nltk)\r\n",
      "Requirement already satisfied: six in ./py3_env/lib/python3.6/site-packages (from nltk)\r\n"
     ]
    }
   ],
   "source": [
    "!py3_env/bin/pip install nltk"
   ]
  },
  {
   "cell_type": "code",
   "execution_count": 47,
   "metadata": {},
   "outputs": [
    {
     "name": "stderr",
     "output_type": "stream",
     "text": [
      "[nltk_data] Downloading package wordnet to /home/anton-\n",
      "[nltk_data]     taleckij/nltk_data...\n",
      "[nltk_data]   Unzipping corpora/wordnet.zip.\n"
     ]
    },
    {
     "data": {
      "text/plain": [
       "True"
      ]
     },
     "execution_count": 47,
     "metadata": {},
     "output_type": "execute_result"
    }
   ],
   "source": [
    "import nltk\n",
    "nltk.download('wordnet')"
   ]
  },
  {
   "cell_type": "code",
   "execution_count": 48,
   "metadata": {},
   "outputs": [],
   "source": [
    "from nltk.corpus import wordnet as wn\n",
    "def get_lemma(word):\n",
    "    lemma = wn.morphy(word)\n",
    "    if lemma is None:\n",
    "        return word\n",
    "    else:\n",
    "        return lemma\n",
    "    \n",
    "from nltk.stem.wordnet import WordNetLemmatizer\n",
    "def get_lemma2(word):\n",
    "    return WordNetLemmatizer().lemmatize(word)"
   ]
  },
  {
   "cell_type": "code",
   "execution_count": 78,
   "metadata": {},
   "outputs": [
    {
     "name": "stdout",
     "output_type": "stream",
     "text": [
      "this this\n",
      "be is\n",
      "a a\n",
      "sound sound\n",
      "detection detection\n",
      "chick chick\n",
      "111 111\n",
      "detection detection\n",
      "check check\n"
     ]
    }
   ],
   "source": [
    "for token in tokenize(text):\n",
    "    print(get_lemma(token), get_lemma2(token))"
   ]
  },
  {
   "cell_type": "code",
   "execution_count": 67,
   "metadata": {},
   "outputs": [
    {
     "name": "stderr",
     "output_type": "stream",
     "text": [
      "[nltk_data] Downloading package stopwords to /home/anton-\n",
      "[nltk_data]     taleckij/nltk_data...\n",
      "[nltk_data]   Unzipping corpora/stopwords.zip.\n"
     ]
    }
   ],
   "source": [
    "nltk.download('stopwords')\n",
    "en_stop = set(nltk.corpus.stopwords.words('english'))"
   ]
  },
  {
   "cell_type": "code",
   "execution_count": 72,
   "metadata": {},
   "outputs": [
    {
     "data": {
      "text/plain": [
       "['herself', 'such', 'here', 'y', 'on']"
      ]
     },
     "execution_count": 72,
     "metadata": {},
     "output_type": "execute_result"
    }
   ],
   "source": [
    "list(en_stop)[:5]"
   ]
  },
  {
   "cell_type": "code",
   "execution_count": 90,
   "metadata": {},
   "outputs": [],
   "source": [
    "def prepare_text_for_lda(text):\n",
    "    tokens = tokenize(text)\n",
    "    return [get_lemma(token) for token in tokens \n",
    "            if len(token) > 4 and token not in en_stop]"
   ]
  },
  {
   "cell_type": "code",
   "execution_count": 91,
   "metadata": {},
   "outputs": [
    {
     "data": {
      "text/plain": [
       "[['sound', 'detection', 'chick', 'detection', 'check']]"
      ]
     },
     "execution_count": 91,
     "metadata": {},
     "output_type": "execute_result"
    }
   ],
   "source": [
    "text_data = [prepare_text_for_lda(text)]\n",
    "text_data"
   ]
  },
  {
   "cell_type": "code",
   "execution_count": 82,
   "metadata": {},
   "outputs": [
    {
     "name": "stdout",
     "output_type": "stream",
     "text": [
      "Requirement already satisfied: gensim in ./py3_env/lib/python3.6/site-packages\n",
      "Requirement already satisfied: scipy>=0.18.1 in ./py3_env/lib/python3.6/site-packages (from gensim)\n",
      "Requirement already satisfied: smart-open>=1.7.0 in ./py3_env/lib/python3.6/site-packages (from gensim)\n",
      "Requirement already satisfied: numpy>=1.11.3 in ./py3_env/lib/python3.6/site-packages (from gensim)\n",
      "Requirement already satisfied: six>=1.5.0 in ./py3_env/lib/python3.6/site-packages (from gensim)\n",
      "Requirement already satisfied: boto3 in ./py3_env/lib/python3.6/site-packages (from smart-open>=1.7.0->gensim)\n",
      "Requirement already satisfied: boto>=2.32 in ./py3_env/lib/python3.6/site-packages (from smart-open>=1.7.0->gensim)\n",
      "Requirement already satisfied: bz2file in ./py3_env/lib/python3.6/site-packages (from smart-open>=1.7.0->gensim)\n",
      "Requirement already satisfied: requests in ./py3_env/lib/python3.6/site-packages (from smart-open>=1.7.0->gensim)\n",
      "Requirement already satisfied: s3transfer<0.3.0,>=0.2.0 in ./py3_env/lib/python3.6/site-packages (from boto3->smart-open>=1.7.0->gensim)\n",
      "Requirement already satisfied: jmespath<1.0.0,>=0.7.1 in ./py3_env/lib/python3.6/site-packages (from boto3->smart-open>=1.7.0->gensim)\n",
      "Requirement already satisfied: botocore<1.13.0,>=1.12.102 in ./py3_env/lib/python3.6/site-packages (from boto3->smart-open>=1.7.0->gensim)\n",
      "Requirement already satisfied: urllib3<1.25,>=1.21.1 in ./py3_env/lib/python3.6/site-packages (from requests->smart-open>=1.7.0->gensim)\n",
      "Requirement already satisfied: idna<2.9,>=2.5 in ./py3_env/lib/python3.6/site-packages (from requests->smart-open>=1.7.0->gensim)\n",
      "Requirement already satisfied: chardet<3.1.0,>=3.0.2 in ./py3_env/lib/python3.6/site-packages (from requests->smart-open>=1.7.0->gensim)\n",
      "Requirement already satisfied: certifi>=2017.4.17 in ./py3_env/lib/python3.6/site-packages (from requests->smart-open>=1.7.0->gensim)\n",
      "Requirement already satisfied: docutils>=0.10 in ./py3_env/lib/python3.6/site-packages (from botocore<1.13.0,>=1.12.102->boto3->smart-open>=1.7.0->gensim)\n",
      "Requirement already satisfied: python-dateutil<3.0.0,>=2.1; python_version >= \"2.7\" in ./py3_env/lib/python3.6/site-packages (from botocore<1.13.0,>=1.12.102->boto3->smart-open>=1.7.0->gensim)\n"
     ]
    }
   ],
   "source": [
    "!py3_env/bin/pip install gensim"
   ]
  },
  {
   "cell_type": "code",
   "execution_count": 86,
   "metadata": {},
   "outputs": [
    {
     "name": "stdout",
     "output_type": "stream",
     "text": [
      "Dictionary(4 unique tokens: ['check', 'chick', 'detection', 'sound'])\n",
      "[[(0, 1), (1, 1), (2, 2), (3, 1)]]\n"
     ]
    }
   ],
   "source": [
    "from gensim import corpora\n",
    "\n",
    "dictionary = corpora.Dictionary(text_data)\n",
    "print(dictionary)\n",
    "corpus = [dictionary.doc2bow(text) for text in text_data]\n",
    "print(corpus)"
   ]
  },
  {
   "cell_type": "code",
   "execution_count": 89,
   "metadata": {},
   "outputs": [],
   "source": [
    "dictionary.doc2bow?? # document to bag of words"
   ]
  },
  {
   "cell_type": "code",
   "execution_count": 88,
   "metadata": {},
   "outputs": [
    {
     "name": "stdout",
     "output_type": "stream",
     "text": [
      "(0, '0.251*\"detection\" + 0.250*\"check\" + 0.250*\"sound\"')\n",
      "(1, '0.359*\"detection\" + 0.214*\"chick\" + 0.214*\"sound\"')\n"
     ]
    }
   ],
   "source": [
    "import gensim\n",
    "\n",
    "NUM_TOPICS = 2\n",
    "NUM_WORDS = 3\n",
    "\n",
    "ldamodel = gensim.models.ldamodel.LdaModel(corpus, num_topics=NUM_TOPICS, id2word=dictionary, passes=15)\n",
    "\n",
    "topics = ldamodel.print_topics(num_words=NUM_WORDS)\n",
    "for topic in topics:\n",
    "    print(topic)"
   ]
  },
  {
   "cell_type": "code",
   "execution_count": null,
   "metadata": {},
   "outputs": [],
   "source": []
  }
 ],
 "metadata": {
  "kernelspec": {
   "display_name": "Python 3",
   "language": "python",
   "name": "python3"
  },
  "language_info": {
   "codemirror_mode": {
    "name": "ipython",
    "version": 3
   },
   "file_extension": ".py",
   "mimetype": "text/x-python",
   "name": "python",
   "nbconvert_exporter": "python",
   "pygments_lexer": "ipython3",
   "version": "3.6.7"
  }
 },
 "nbformat": 4,
 "nbformat_minor": 2
}
