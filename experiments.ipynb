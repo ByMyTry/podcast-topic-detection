{
 "cells": [
  {
   "cell_type": "markdown",
   "metadata": {},
   "source": [
    "## Распознование текста из микрофона"
   ]
  },
  {
   "cell_type": "code",
   "execution_count": null,
   "metadata": {},
   "outputs": [],
   "source": [
    "sudo apt-get install portaudio19-dev"
   ]
  },
  {
   "cell_type": "code",
   "execution_count": 1,
   "metadata": {},
   "outputs": [
    {
     "name": "stdout",
     "output_type": "stream",
     "text": [
      "Requirement already satisfied: SpeechRecognition in ./environment/lib/python3.6/site-packages\n",
      "Requirement already satisfied: PyAudio in ./environment/lib/python3.6/site-packages\n"
     ]
    }
   ],
   "source": [
    "!environment/bin/pip install SpeechRecognition\n",
    "!environment/bin/pip install PyAudio"
   ]
  },
  {
   "cell_type": "code",
   "execution_count": 2,
   "metadata": {},
   "outputs": [],
   "source": [
    "import speech_recognition as sr"
   ]
  },
  {
   "cell_type": "code",
   "execution_count": 3,
   "metadata": {},
   "outputs": [],
   "source": [
    "recognizer = sr.Recognizer()"
   ]
  },
  {
   "cell_type": "code",
   "execution_count": 4,
   "metadata": {},
   "outputs": [],
   "source": [
    "recognizer.listen??"
   ]
  },
  {
   "cell_type": "code",
   "execution_count": 4,
   "metadata": {},
   "outputs": [
    {
     "name": "stdout",
     "output_type": "stream",
     "text": [
      "1\n",
      "2\n"
     ]
    }
   ],
   "source": [
    "with sr.Microphone() as micro:\n",
    "    print(1)\n",
    "    audio = recognizer.listen(micro)\n",
    "    print(2)"
   ]
  },
  {
   "cell_type": "code",
   "execution_count": 54,
   "metadata": {},
   "outputs": [],
   "source": [
    "with open('data/microphone-results.wav', \"wb\") as f:\n",
    "    f.write(audio.get_wav_data())"
   ]
  },
  {
   "cell_type": "code",
   "execution_count": 5,
   "metadata": {},
   "outputs": [
    {
     "data": {
      "text/plain": [
       "'speak speak speak speak speak speak'"
      ]
     },
     "execution_count": 5,
     "metadata": {},
     "output_type": "execute_result"
    }
   ],
   "source": [
    "recognizer.recognize_google(audio, language='en-EN')"
   ]
  },
  {
   "cell_type": "markdown",
   "metadata": {},
   "source": [
    "## Распознование текста из аудиофайла"
   ]
  },
  {
   "cell_type": "code",
   "execution_count": 31,
   "metadata": {},
   "outputs": [],
   "source": [
    "recognizer = sr.Recognizer()"
   ]
  },
  {
   "cell_type": "code",
   "execution_count": 58,
   "metadata": {},
   "outputs": [],
   "source": [
    "with sr.AudioFile('data/microphone-results.wav') as source:\n",
    "    audio1 = recognizer.record(source)"
   ]
  },
  {
   "cell_type": "code",
   "execution_count": 59,
   "metadata": {},
   "outputs": [
    {
     "data": {
      "text/plain": [
       "'this is a sound detection chick 111 detection check'"
      ]
     },
     "execution_count": 59,
     "metadata": {},
     "output_type": "execute_result"
    }
   ],
   "source": [
    "recognizer.recognize_google(audio1, language='en-EN')"
   ]
  },
  {
   "cell_type": "markdown",
   "metadata": {},
   "source": [
    "## Text topic extraction"
   ]
  },
  {
   "cell_type": "code",
   "execution_count": 36,
   "metadata": {},
   "outputs": [
    {
     "name": "stdout",
     "output_type": "stream",
     "text": [
      "Requirement already satisfied: spacy in ./py3_env/lib/python3.6/site-packages\n",
      "Requirement already satisfied: plac<1.0.0,>=0.9.6 in ./py3_env/lib/python3.6/site-packages (from spacy)\n",
      "Requirement already satisfied: preshed<2.1.0,>=2.0.1 in ./py3_env/lib/python3.6/site-packages (from spacy)\n",
      "Requirement already satisfied: numpy>=1.15.0 in ./py3_env/lib/python3.6/site-packages (from spacy)\n",
      "Requirement already satisfied: thinc<6.13.0,>=6.12.1 in ./py3_env/lib/python3.6/site-packages (from spacy)\n",
      "Requirement already satisfied: dill<0.3,>=0.2 in ./py3_env/lib/python3.6/site-packages (from spacy)\n",
      "Requirement already satisfied: cymem<2.1.0,>=2.0.2 in ./py3_env/lib/python3.6/site-packages (from spacy)\n",
      "Requirement already satisfied: murmurhash<1.1.0,>=0.28.0 in ./py3_env/lib/python3.6/site-packages (from spacy)\n",
      "Requirement already satisfied: regex==2018.01.10 in ./py3_env/lib/python3.6/site-packages (from spacy)\n",
      "Requirement already satisfied: ujson>=1.35 in ./py3_env/lib/python3.6/site-packages (from spacy)\n",
      "Requirement already satisfied: requests<3.0.0,>=2.13.0 in ./py3_env/lib/python3.6/site-packages (from spacy)\n",
      "Requirement already satisfied: cytoolz<0.10,>=0.9.0 in ./py3_env/lib/python3.6/site-packages (from thinc<6.13.0,>=6.12.1->spacy)\n",
      "Requirement already satisfied: msgpack-numpy<0.4.4 in ./py3_env/lib/python3.6/site-packages (from thinc<6.13.0,>=6.12.1->spacy)\n",
      "Requirement already satisfied: msgpack<0.6.0,>=0.5.6 in ./py3_env/lib/python3.6/site-packages (from thinc<6.13.0,>=6.12.1->spacy)\n",
      "Requirement already satisfied: wrapt<1.11.0,>=1.10.0 in ./py3_env/lib/python3.6/site-packages (from thinc<6.13.0,>=6.12.1->spacy)\n",
      "Requirement already satisfied: tqdm<5.0.0,>=4.10.0 in ./py3_env/lib/python3.6/site-packages (from thinc<6.13.0,>=6.12.1->spacy)\n",
      "Requirement already satisfied: six<2.0.0,>=1.10.0 in ./py3_env/lib/python3.6/site-packages (from thinc<6.13.0,>=6.12.1->spacy)\n",
      "Requirement already satisfied: urllib3<1.25,>=1.21.1 in ./py3_env/lib/python3.6/site-packages (from requests<3.0.0,>=2.13.0->spacy)\n",
      "Requirement already satisfied: idna<2.9,>=2.5 in ./py3_env/lib/python3.6/site-packages (from requests<3.0.0,>=2.13.0->spacy)\n",
      "Requirement already satisfied: chardet<3.1.0,>=3.0.2 in ./py3_env/lib/python3.6/site-packages (from requests<3.0.0,>=2.13.0->spacy)\n",
      "Requirement already satisfied: certifi>=2017.4.17 in ./py3_env/lib/python3.6/site-packages (from requests<3.0.0,>=2.13.0->spacy)\n",
      "Requirement already satisfied: toolz>=0.8.0 in ./py3_env/lib/python3.6/site-packages (from cytoolz<0.10,>=0.9.0->thinc<6.13.0,>=6.12.1->spacy)\n"
     ]
    }
   ],
   "source": [
    "!py3_env/bin/pip install spacy\n",
    "!py3_env/bin/pip install pymorphy2"
   ]
  },
  {
   "cell_type": "code",
   "execution_count": 37,
   "metadata": {},
   "outputs": [],
   "source": [
    "import spacy"
   ]
  },
  {
   "cell_type": "code",
   "execution_count": 39,
   "metadata": {},
   "outputs": [],
   "source": [
    "# spacy.load('ru')"
   ]
  },
  {
   "cell_type": "code",
   "execution_count": 60,
   "metadata": {},
   "outputs": [],
   "source": [
    "from spacy.lang.en import English"
   ]
  },
  {
   "cell_type": "code",
   "execution_count": 61,
   "metadata": {},
   "outputs": [],
   "source": [
    "parser = English()\n",
    "\n",
    "def tokenize(text):\n",
    "    lda_tokens = []\n",
    "    tokens = parser(text)\n",
    "    for token in tokens:\n",
    "        if token.orth_.isspace():\n",
    "            continue\n",
    "        elif token.like_url:\n",
    "            lda_tokens.append('URL')\n",
    "        elif token.orth_.startswith('@'):\n",
    "            lda_tokens.append('SCREEN_NAME')\n",
    "        else:\n",
    "            lda_tokens.append(token.lower_)\n",
    "    return lda_tokens"
   ]
  },
  {
   "cell_type": "code",
   "execution_count": 63,
   "metadata": {},
   "outputs": [
    {
     "data": {
      "text/plain": [
       "['this', 'is', 'a', 'sound', 'detection', 'chick', '111', 'detection', 'check']"
      ]
     },
     "execution_count": 63,
     "metadata": {},
     "output_type": "execute_result"
    }
   ],
   "source": [
    "text = recognizer.recognize_google(audio, language='en-EN')\n",
    "tokenize(text)"
   ]
  },
  {
   "cell_type": "code",
   "execution_count": 3,
   "metadata": {},
   "outputs": [
    {
     "name": "stdout",
     "output_type": "stream",
     "text": [
      "Requirement already satisfied: nltk in ./environment/lib/python3.6/site-packages\r\n",
      "Requirement already satisfied: six in ./environment/lib/python3.6/site-packages (from nltk)\r\n",
      "Requirement already satisfied: singledispatch in ./environment/lib/python3.6/site-packages (from nltk)\r\n"
     ]
    }
   ],
   "source": [
    "!environment/bin/pip install nltk"
   ]
  },
  {
   "cell_type": "code",
   "execution_count": 4,
   "metadata": {},
   "outputs": [
    {
     "name": "stderr",
     "output_type": "stream",
     "text": [
      "[nltk_data] Downloading package wordnet to /home/anton-\n",
      "[nltk_data]     taleckij/nltk_data...\n",
      "[nltk_data]   Unzipping corpora/wordnet.zip.\n"
     ]
    },
    {
     "data": {
      "text/plain": [
       "True"
      ]
     },
     "execution_count": 4,
     "metadata": {},
     "output_type": "execute_result"
    }
   ],
   "source": [
    "import nltk\n",
    "nltk.download('wordnet')"
   ]
  },
  {
   "cell_type": "code",
   "execution_count": 5,
   "metadata": {},
   "outputs": [],
   "source": [
    "from nltk.corpus import wordnet as wn\n",
    "def get_lemma(word):\n",
    "    lemma = wn.morphy(word)\n",
    "    if lemma is None:\n",
    "        return word\n",
    "    else:\n",
    "        return lemma\n",
    "    \n",
    "from nltk.stem.wordnet import WordNetLemmatizer\n",
    "def get_lemma2(word):\n",
    "    return WordNetLemmatizer().lemmatize(word)"
   ]
  },
  {
   "cell_type": "code",
   "execution_count": 16,
   "metadata": {},
   "outputs": [
    {
     "data": {
      "text/plain": [
       "'их'"
      ]
     },
     "execution_count": 16,
     "metadata": {},
     "output_type": "execute_result"
    }
   ],
   "source": [
    "get_lemma(\"их\")"
   ]
  },
  {
   "cell_type": "code",
   "execution_count": 78,
   "metadata": {},
   "outputs": [
    {
     "name": "stdout",
     "output_type": "stream",
     "text": [
      "this this\n",
      "be is\n",
      "a a\n",
      "sound sound\n",
      "detection detection\n",
      "chick chick\n",
      "111 111\n",
      "detection detection\n",
      "check check\n"
     ]
    }
   ],
   "source": [
    "for token in tokenize(text):\n",
    "    print(get_lemma(token), get_lemma2(token))"
   ]
  },
  {
   "cell_type": "code",
   "execution_count": 11,
   "metadata": {},
   "outputs": [
    {
     "name": "stderr",
     "output_type": "stream",
     "text": [
      "[nltk_data] Downloading package stopwords to /home/anton-\n",
      "[nltk_data]     taleckij/nltk_data...\n",
      "[nltk_data]   Package stopwords is already up-to-date!\n"
     ]
    }
   ],
   "source": [
    "nltk.download('stopwords')\n",
    "# en_stop = set(nltk.corpus.stopwords.words('english'))\n",
    "en_stop = set(nltk.corpus.stopwords.words('russian'))"
   ]
  },
  {
   "cell_type": "code",
   "execution_count": 12,
   "metadata": {},
   "outputs": [
    {
     "data": {
      "text/plain": [
       "['со', 'при', 'чтобы', 'может', 'без']"
      ]
     },
     "execution_count": 12,
     "metadata": {},
     "output_type": "execute_result"
    }
   ],
   "source": [
    "list(en_stop)[:5]"
   ]
  },
  {
   "cell_type": "code",
   "execution_count": 90,
   "metadata": {},
   "outputs": [],
   "source": [
    "def prepare_text_for_lda(text):\n",
    "    tokens = tokenize(text)\n",
    "    return [get_lemma(token) for token in tokens \n",
    "            if len(token) > 4 and token not in en_stop]"
   ]
  },
  {
   "cell_type": "code",
   "execution_count": 91,
   "metadata": {},
   "outputs": [
    {
     "data": {
      "text/plain": [
       "[['sound', 'detection', 'chick', 'detection', 'check']]"
      ]
     },
     "execution_count": 91,
     "metadata": {},
     "output_type": "execute_result"
    }
   ],
   "source": [
    "text_data = [prepare_text_for_lda(text)]\n",
    "text_data"
   ]
  },
  {
   "cell_type": "code",
   "execution_count": 82,
   "metadata": {},
   "outputs": [
    {
     "name": "stdout",
     "output_type": "stream",
     "text": [
      "Requirement already satisfied: gensim in ./py3_env/lib/python3.6/site-packages\n",
      "Requirement already satisfied: scipy>=0.18.1 in ./py3_env/lib/python3.6/site-packages (from gensim)\n",
      "Requirement already satisfied: smart-open>=1.7.0 in ./py3_env/lib/python3.6/site-packages (from gensim)\n",
      "Requirement already satisfied: numpy>=1.11.3 in ./py3_env/lib/python3.6/site-packages (from gensim)\n",
      "Requirement already satisfied: six>=1.5.0 in ./py3_env/lib/python3.6/site-packages (from gensim)\n",
      "Requirement already satisfied: boto3 in ./py3_env/lib/python3.6/site-packages (from smart-open>=1.7.0->gensim)\n",
      "Requirement already satisfied: boto>=2.32 in ./py3_env/lib/python3.6/site-packages (from smart-open>=1.7.0->gensim)\n",
      "Requirement already satisfied: bz2file in ./py3_env/lib/python3.6/site-packages (from smart-open>=1.7.0->gensim)\n",
      "Requirement already satisfied: requests in ./py3_env/lib/python3.6/site-packages (from smart-open>=1.7.0->gensim)\n",
      "Requirement already satisfied: s3transfer<0.3.0,>=0.2.0 in ./py3_env/lib/python3.6/site-packages (from boto3->smart-open>=1.7.0->gensim)\n",
      "Requirement already satisfied: jmespath<1.0.0,>=0.7.1 in ./py3_env/lib/python3.6/site-packages (from boto3->smart-open>=1.7.0->gensim)\n",
      "Requirement already satisfied: botocore<1.13.0,>=1.12.102 in ./py3_env/lib/python3.6/site-packages (from boto3->smart-open>=1.7.0->gensim)\n",
      "Requirement already satisfied: urllib3<1.25,>=1.21.1 in ./py3_env/lib/python3.6/site-packages (from requests->smart-open>=1.7.0->gensim)\n",
      "Requirement already satisfied: idna<2.9,>=2.5 in ./py3_env/lib/python3.6/site-packages (from requests->smart-open>=1.7.0->gensim)\n",
      "Requirement already satisfied: chardet<3.1.0,>=3.0.2 in ./py3_env/lib/python3.6/site-packages (from requests->smart-open>=1.7.0->gensim)\n",
      "Requirement already satisfied: certifi>=2017.4.17 in ./py3_env/lib/python3.6/site-packages (from requests->smart-open>=1.7.0->gensim)\n",
      "Requirement already satisfied: docutils>=0.10 in ./py3_env/lib/python3.6/site-packages (from botocore<1.13.0,>=1.12.102->boto3->smart-open>=1.7.0->gensim)\n",
      "Requirement already satisfied: python-dateutil<3.0.0,>=2.1; python_version >= \"2.7\" in ./py3_env/lib/python3.6/site-packages (from botocore<1.13.0,>=1.12.102->boto3->smart-open>=1.7.0->gensim)\n"
     ]
    }
   ],
   "source": [
    "!py3_env/bin/pip install gensim"
   ]
  },
  {
   "cell_type": "code",
   "execution_count": 86,
   "metadata": {},
   "outputs": [
    {
     "name": "stdout",
     "output_type": "stream",
     "text": [
      "Dictionary(4 unique tokens: ['check', 'chick', 'detection', 'sound'])\n",
      "[[(0, 1), (1, 1), (2, 2), (3, 1)]]\n"
     ]
    }
   ],
   "source": [
    "from gensim import corpora\n",
    "\n",
    "dictionary = corpora.Dictionary(text_data)\n",
    "print(dictionary)\n",
    "corpus = [dictionary.doc2bow(text) for text in text_data]\n",
    "print(corpus)"
   ]
  },
  {
   "cell_type": "code",
   "execution_count": 89,
   "metadata": {},
   "outputs": [],
   "source": [
    "dictionary.doc2bow?? # document to bag of words"
   ]
  },
  {
   "cell_type": "code",
   "execution_count": 88,
   "metadata": {},
   "outputs": [
    {
     "name": "stdout",
     "output_type": "stream",
     "text": [
      "(0, '0.251*\"detection\" + 0.250*\"check\" + 0.250*\"sound\"')\n",
      "(1, '0.359*\"detection\" + 0.214*\"chick\" + 0.214*\"sound\"')\n"
     ]
    }
   ],
   "source": [
    "import gensim\n",
    "\n",
    "NUM_TOPICS = 2\n",
    "NUM_WORDS = 3\n",
    "\n",
    "ldamodel = gensim.models.ldamodel.LdaModel(corpus, num_topics=NUM_TOPICS, id2word=dictionary, passes=15)\n",
    "\n",
    "topics = ldamodel.print_topics(num_words=NUM_WORDS)\n",
    "for topic in topics:\n",
    "    print(topic)"
   ]
  },
  {
   "cell_type": "markdown",
   "metadata": {},
   "source": [
    "## загрузка аудиофайла из youtube"
   ]
  },
  {
   "cell_type": "code",
   "execution_count": 31,
   "metadata": {},
   "outputs": [
    {
     "name": "stdout",
     "output_type": "stream",
     "text": [
      "Requirement already satisfied: youtube_dl in ./py3_env/lib/python3.6/site-packages\n",
      "Requirement already satisfied: oauth2client in ./py3_env/lib/python3.6/site-packages\n",
      "Requirement already satisfied: six>=1.6.1 in ./py3_env/lib/python3.6/site-packages (from oauth2client)\n",
      "Requirement already satisfied: rsa>=3.1.4 in ./py3_env/lib/python3.6/site-packages (from oauth2client)\n",
      "Requirement already satisfied: httplib2>=0.9.1 in ./py3_env/lib/python3.6/site-packages (from oauth2client)\n",
      "Requirement already satisfied: pyasn1-modules>=0.0.5 in ./py3_env/lib/python3.6/site-packages (from oauth2client)\n",
      "Requirement already satisfied: pyasn1>=0.1.7 in ./py3_env/lib/python3.6/site-packages (from oauth2client)\n",
      "Collecting pydub\n",
      "  Downloading https://files.pythonhosted.org/packages/79/db/eaf620b73a1eec3c8c6f8f5b0b236a50f9da88ad57802154b7ba7664d0b8/pydub-0.23.1-py2.py3-none-any.whl\n",
      "Installing collected packages: pydub\n",
      "Successfully installed pydub-0.23.1\n"
     ]
    }
   ],
   "source": [
    "!py3_env/bin/pip install youtube_dl\n",
    "!py3_env/bin/pip install oauth2client\n",
    "!py3_env/bin/pip install pydub"
   ]
  },
  {
   "cell_type": "code",
   "execution_count": 14,
   "metadata": {},
   "outputs": [
    {
     "name": "stdout",
     "output_type": "stream",
     "text": [
      "[youtube] J5O5iRpLXKY: Downloading webpage\n",
      "[youtube] J5O5iRpLXKY: Downloading video info webpage\n",
      "[download] Destination: 1\n",
      "[download] 100% of 15.11MiB in 00:13.00KiB/s ETA 00:000\n",
      "[ffmpeg] Destination: wav\n",
      "Deleting original file 1 (pass -k to keep)\n"
     ]
    }
   ],
   "source": [
    "import youtube_dl\n",
    "\n",
    "ydl_opts = {\n",
    "    'format': 'bestaudio/best',\n",
    "    'postprocessors': [{\n",
    "        'key': 'FFmpegExtractAudio',\n",
    "        'preferredcodec': 'wav',\n",
    "        'preferredquality': '192'\n",
    "    }],\n",
    "    'outtmpl': '1',\n",
    "    'prefer_ffmpeg': True,\n",
    "    'keepvideo': False\n",
    "}\n",
    "\n",
    "with youtube_dl.YoutubeDL(ydl_opts) as ydl:\n",
    "    ydl.download(['https://www.youtube.com/watch?v=J5O5iRpLXKY&t=637s'])"
   ]
  },
  {
   "cell_type": "code",
   "execution_count": 15,
   "metadata": {},
   "outputs": [
    {
     "data": {
      "text/plain": [
       "<_io.BufferedRandom name='data/3.wav'>"
      ]
     },
     "execution_count": 15,
     "metadata": {},
     "output_type": "execute_result"
    }
   ],
   "source": [
    "from pydub import AudioSegment\n",
    "t1 = 110 * 1000 #Works in milliseconds\n",
    "t2 = 200 * 1000\n",
    "newAudio = AudioSegment.from_wav(\"data/1.wav\")\n",
    "newAudio = newAudio[t1:t2]\n",
    "newAudio.export('data/3.wav', format=\"wav\")"
   ]
  },
  {
   "cell_type": "code",
   "execution_count": 57,
   "metadata": {},
   "outputs": [
    {
     "data": {
      "text/plain": [
       "'чтобы после очень крутой 18 года попробовать себя на западе А это произошло наверное летом летом 18 летом 18 года Так как только артист увидел офсет увидел эту ссылку Он резко отправил своим продюсером и сказал у меня переписку показывали потом эти же продюсер искал это моё секретное оружие Давайте звать парня и потихоньку очень медленно начинался запускается процесс То есть как бы это ни было моментально там о Попов и мы уже Я уже тут В начале обсуждал Ну поскольку у них стартовал тур совместно с дрейком не улавливает of цитата 11 чуваков из группы migos когда архитектуре это всегда любой клип запись альбома идёт очень медленно потому что они ежедневно просто путешествую фотосессии концерты в каждом городе по два по три концерта все солдаут были и наш тоже клип он сильно двигался медленно но ближе наверное в октябре уже нам Мне позвонили сказали всё Поехали Давай всё снимать придумывай идею У артиста из Кто такие заметную столько-то заметок что он хочет видеть и мы сейчас я с этим свой креативным директором креативный после Skype с креативным директором мы друг друга поняли я начинал писать сценарии отправлял ему постоянно разные обновление я написал 3 сценарий для них спустя месяц'"
      ]
     },
     "execution_count": 57,
     "metadata": {},
     "output_type": "execute_result"
    }
   ],
   "source": [
    "recognizer = sr.Recognizer()\n",
    "with sr.AudioFile('data/3.wav') as source:\n",
    "    audio1 = recognizer.record(source)\n",
    "recognizer.recognize_google(audio1, language='ru_RU')"
   ]
  },
  {
   "cell_type": "markdown",
   "metadata": {},
   "source": [
    "## Analyse podcast topics with wor2vec"
   ]
  },
  {
   "cell_type": "code",
   "execution_count": 11,
   "metadata": {},
   "outputs": [
    {
     "name": "stderr",
     "output_type": "stream",
     "text": [
      "/usr/lib/python3.6/importlib/_bootstrap.py:219: RuntimeWarning: numpy.ufunc size changed, may indicate binary incompatibility. Expected 216, got 192\n",
      "  return f(*args, **kwds)\n",
      "/usr/lib/python3.6/importlib/_bootstrap.py:219: RuntimeWarning: numpy.ufunc size changed, may indicate binary incompatibility. Expected 216, got 192\n",
      "  return f(*args, **kwds)\n",
      "/usr/lib/python3.6/importlib/_bootstrap.py:219: RuntimeWarning: numpy.ufunc size changed, may indicate binary incompatibility. Expected 192 from C header, got 216 from PyObject\n",
      "  return f(*args, **kwds)\n"
     ]
    }
   ],
   "source": [
    "import nltk\n",
    "from gensim.models import Word2Vec"
   ]
  },
  {
   "cell_type": "code",
   "execution_count": 60,
   "metadata": {},
   "outputs": [
    {
     "data": {
      "text/plain": [
       "'й как нервничал тогда секс это правда что вы гений с юрий будет дуть дуть будет юрий мы живем в очен'"
      ]
     },
     "execution_count": 60,
     "metadata": {},
     "output_type": "execute_result"
    }
   ],
   "source": [
    "with open('data/podcast.txt', 'r+') as f:\n",
    "    text = f.read()\n",
    "text[100:200]"
   ]
  },
  {
   "cell_type": "code",
   "execution_count": 61,
   "metadata": {},
   "outputs": [
    {
     "name": "stdout",
     "output_type": "stream",
     "text": [
      "6100\n",
      "3664\n"
     ]
    }
   ],
   "source": [
    "tokens = text.split()\n",
    "print(len(tokens))\n",
    "en_stop = set(nltk.corpus.stopwords.words('russian'))\n",
    "filtered_tokens = [token for token in tokens if token not in en_stop]\n",
    "print(len(filtered_tokens))"
   ]
  },
  {
   "cell_type": "code",
   "execution_count": 62,
   "metadata": {},
   "outputs": [],
   "source": [
    "model = Word2Vec([filtered_tokens], size=50, window=5, min_count=3, workers=4)"
   ]
  },
  {
   "cell_type": "code",
   "execution_count": 63,
   "metadata": {},
   "outputs": [
    {
     "data": {
      "text/plain": [
       "{'фсб': <gensim.models.keyedvectors.Vocab at 0x7f14dcf6b898>,\n",
       " 'ещё': <gensim.models.keyedvectors.Vocab at 0x7f14dcf6b080>,\n",
       " 'это': <gensim.models.keyedvectors.Vocab at 0x7f14dcbe90f0>,\n",
       " 'правда': <gensim.models.keyedvectors.Vocab at 0x7f14dcbe9438>,\n",
       " 'юрий': <gensim.models.keyedvectors.Vocab at 0x7f14dcbe9240>,\n",
       " 'дуть': <gensim.models.keyedvectors.Vocab at 0x7f14dcbb3e80>,\n",
       " 'очень': <gensim.models.keyedvectors.Vocab at 0x7f14dcbb33c8>,\n",
       " 'время': <gensim.models.keyedvectors.Vocab at 0x7f14dcbb3b70>,\n",
       " 'любой': <gensim.models.keyedvectors.Vocab at 0x7f14dcbb36a0>,\n",
       " 'человека': <gensim.models.keyedvectors.Vocab at 0x7f14dcbb34a8>,\n",
       " 'украины': <gensim.models.keyedvectors.Vocab at 0x7f14dcbb3320>,\n",
       " 'россии': <gensim.models.keyedvectors.Vocab at 0x7f14dcbb34e0>,\n",
       " 'поэтому': <gensim.models.keyedvectors.Vocab at 0x7f14dcbb3a90>,\n",
       " 'хочу': <gensim.models.keyedvectors.Vocab at 0x7f14dcbb30f0>,\n",
       " 'важно': <gensim.models.keyedvectors.Vocab at 0x7f14dcbb32e8>,\n",
       " 'люди': <gensim.models.keyedvectors.Vocab at 0x7f14dcbb36d8>,\n",
       " 'которые': <gensim.models.keyedvectors.Vocab at 0x7f14dcbb3898>,\n",
       " 'своей': <gensim.models.keyedvectors.Vocab at 0x7f14dcbb3cc0>,\n",
       " 'страны': <gensim.models.keyedvectors.Vocab at 0x7f14dcbb3278>,\n",
       " 'сих': <gensim.models.keyedvectors.Vocab at 0x7f14dcf6cef0>,\n",
       " 'пор': <gensim.models.keyedvectors.Vocab at 0x7f14dcf6cb00>,\n",
       " '60': <gensim.models.keyedvectors.Vocab at 0x7f14dcf6ca90>,\n",
       " 'минут': <gensim.models.keyedvectors.Vocab at 0x7f14dcf6ceb8>,\n",
       " 'программа': <gensim.models.keyedvectors.Vocab at 0x7f14dcf6cb70>,\n",
       " 'российского': <gensim.models.keyedvectors.Vocab at 0x7f14dcf6c5c0>,\n",
       " 'какие-то': <gensim.models.keyedvectors.Vocab at 0x7f14dcf6c8d0>,\n",
       " 'причине': <gensim.models.keyedvectors.Vocab at 0x7f14dcf6c4e0>,\n",
       " 'знаю': <gensim.models.keyedvectors.Vocab at 0x7f14dcf6c6a0>,\n",
       " 'людей': <gensim.models.keyedvectors.Vocab at 0x7f14dcf6c400>,\n",
       " 'части': <gensim.models.keyedvectors.Vocab at 0x7f14dcf6cf60>,\n",
       " 'российской': <gensim.models.keyedvectors.Vocab at 0x7f14dcf6ce48>,\n",
       " 'сама': <gensim.models.keyedvectors.Vocab at 0x7f14dcbcfac8>,\n",
       " 'просто': <gensim.models.keyedvectors.Vocab at 0x7f14dcbcfba8>,\n",
       " 'пропаганда': <gensim.models.keyedvectors.Vocab at 0x7f14dcbcf9e8>,\n",
       " 'думаю': <gensim.models.keyedvectors.Vocab at 0x7f14dcbcf588>,\n",
       " 'считаю': <gensim.models.keyedvectors.Vocab at 0x7f14dcbcfcc0>,\n",
       " 'смотрите': <gensim.models.keyedvectors.Vocab at 0x7f14dcbcf4a8>,\n",
       " 'пропаганды': <gensim.models.keyedvectors.Vocab at 0x7f14dcbcf668>,\n",
       " 'второе': <gensim.models.keyedvectors.Vocab at 0x7f14dcbcf2e8>,\n",
       " 'мнение': <gensim.models.keyedvectors.Vocab at 0x7f14dcbcf7b8>,\n",
       " 'гордона': <gensim.models.keyedvectors.Vocab at 0x7f14dcbcf438>,\n",
       " 'одном': <gensim.models.keyedvectors.Vocab at 0x7f14dcbcf828>,\n",
       " 'этих': <gensim.models.keyedvectors.Vocab at 0x7f14dcbcf358>,\n",
       " 'сказали': <gensim.models.keyedvectors.Vocab at 0x7f14dcbcf518>,\n",
       " 'многие': <gensim.models.keyedvectors.Vocab at 0x7f14dcbcf3c8>,\n",
       " 'назвали': <gensim.models.keyedvectors.Vocab at 0x7f14dcbcfa20>,\n",
       " 'давайте': <gensim.models.keyedvectors.Vocab at 0x7f14dcf6e048>,\n",
       " 'хотя': <gensim.models.keyedvectors.Vocab at 0x7f14dcf6e128>,\n",
       " 'россию': <gensim.models.keyedvectors.Vocab at 0x7f14dcf6ec18>,\n",
       " 'юра': <gensim.models.keyedvectors.Vocab at 0x7f14dcf6e5f8>,\n",
       " 'вопрос': <gensim.models.keyedvectors.Vocab at 0x7f14dcf6e0b8>,\n",
       " 'сделал': <gensim.models.keyedvectors.Vocab at 0x7f14dcf6e898>,\n",
       " 'люблю': <gensim.models.keyedvectors.Vocab at 0x7f14dcf6e6d8>,\n",
       " 'жизнь': <gensim.models.keyedvectors.Vocab at 0x7f14dcf6e908>,\n",
       " 'хотел': <gensim.models.keyedvectors.Vocab at 0x7f14dcf6e518>,\n",
       " 'дальше': <gensim.models.keyedvectors.Vocab at 0x7f14dcf6ef28>,\n",
       " 'руководители': <gensim.models.keyedvectors.Vocab at 0x7f14dcf6edd8>,\n",
       " 'украинских': <gensim.models.keyedvectors.Vocab at 0x7f14dcf6e358>,\n",
       " 'спецслужб': <gensim.models.keyedvectors.Vocab at 0x7f14dcf6ecf8>,\n",
       " 'фамилии': <gensim.models.keyedvectors.Vocab at 0x7f14dcf6e668>,\n",
       " 'прошу': <gensim.models.keyedvectors.Vocab at 0x7f150d30c9b0>,\n",
       " 'наши': <gensim.models.keyedvectors.Vocab at 0x7f14dcf38c50>,\n",
       " 'спецслужбы': <gensim.models.keyedvectors.Vocab at 0x7f14dcf38278>,\n",
       " 'говорят': <gensim.models.keyedvectors.Vocab at 0x7f14dcf38ac8>,\n",
       " 'закон': <gensim.models.keyedvectors.Vocab at 0x7f14dcf38a20>,\n",
       " 'происходит': <gensim.models.keyedvectors.Vocab at 0x7f14dcf38710>,\n",
       " 'государства': <gensim.models.keyedvectors.Vocab at 0x7f14dcf386a0>,\n",
       " 'могут': <gensim.models.keyedvectors.Vocab at 0x7f14dcf38160>,\n",
       " 'называть': <gensim.models.keyedvectors.Vocab at 0x7f14dcf38da0>,\n",
       " 'мира': <gensim.models.keyedvectors.Vocab at 0x7f14dcf38048>,\n",
       " 'которого': <gensim.models.keyedvectors.Vocab at 0x7f14dcf38cc0>,\n",
       " 'кгб': <gensim.models.keyedvectors.Vocab at 0x7f14dcf38c88>,\n",
       " 'интервью': <gensim.models.keyedvectors.Vocab at 0x7f14dcf38be0>,\n",
       " 'специально': <gensim.models.keyedvectors.Vocab at 0x7f14dcf382e8>,\n",
       " 'ко': <gensim.models.keyedvectors.Vocab at 0x7f14dcf38208>,\n",
       " 'туда': <gensim.models.keyedvectors.Vocab at 0x7f14dcf38550>,\n",
       " 'несколько': <gensim.models.keyedvectors.Vocab at 0x7f14dcf381d0>,\n",
       " 'лет': <gensim.models.keyedvectors.Vocab at 0x7f14dcf385f8>,\n",
       " 'назад': <gensim.models.keyedvectors.Vocab at 0x7f14dcf38b70>,\n",
       " 'человек': <gensim.models.keyedvectors.Vocab at 0x7f14dcf38b00>,\n",
       " 'нескольких': <gensim.models.keyedvectors.Vocab at 0x7f14dcf38e10>,\n",
       " 'владимира': <gensim.models.keyedvectors.Vocab at 0x7f14dcf38e80>,\n",
       " 'страшно': <gensim.models.keyedvectors.Vocab at 0x7f14dcf38780>,\n",
       " 'вообще': <gensim.models.keyedvectors.Vocab at 0x7f14dcf38470>,\n",
       " 'разные': <gensim.models.keyedvectors.Vocab at 0x7f14dcf488d0>,\n",
       " 'украине': <gensim.models.keyedvectors.Vocab at 0x7f14dcf48898>,\n",
       " 'сказал': <gensim.models.keyedvectors.Vocab at 0x7f14dcbbb470>,\n",
       " 'который': <gensim.models.keyedvectors.Vocab at 0x7f14dcbbb7f0>,\n",
       " 'виктор': <gensim.models.keyedvectors.Vocab at 0x7f14dcbbb160>,\n",
       " 'футбола': <gensim.models.keyedvectors.Vocab at 0x7f14dcbbb0f0>,\n",
       " 'такие': <gensim.models.keyedvectors.Vocab at 0x7f14dcbbb860>,\n",
       " 'вещи': <gensim.models.keyedvectors.Vocab at 0x7f14dcbbb7b8>,\n",
       " 'те': <gensim.models.keyedvectors.Vocab at 0x7f14dcbbb2b0>,\n",
       " 'жёны': <gensim.models.keyedvectors.Vocab at 0x7f14dcbbb828>,\n",
       " 'тебе': <gensim.models.keyedvectors.Vocab at 0x7f14dcbbb898>,\n",
       " 'нему': <gensim.models.keyedvectors.Vocab at 0x7f14dcbbb8d0>,\n",
       " 'российскую': <gensim.models.keyedvectors.Vocab at 0x7f14dcbbb908>,\n",
       " 'порошенко': <gensim.models.keyedvectors.Vocab at 0x7f14dcbbb940>,\n",
       " 'власти': <gensim.models.keyedvectors.Vocab at 0x7f14dcbbb978>,\n",
       " '3': <gensim.models.keyedvectors.Vocab at 0x7f14dcbbb9b0>,\n",
       " 'года': <gensim.models.keyedvectors.Vocab at 0x7f14dcbbb9e8>,\n",
       " 'свой': <gensim.models.keyedvectors.Vocab at 0x7f14dcbbba20>,\n",
       " '1': <gensim.models.keyedvectors.Vocab at 0x7f14dcbbba58>,\n",
       " 'высказываю': <gensim.models.keyedvectors.Vocab at 0x7f14dcbbba90>,\n",
       " 'дома': <gensim.models.keyedvectors.Vocab at 0x7f14dcbbbac8>,\n",
       " 'часто': <gensim.models.keyedvectors.Vocab at 0x7f14dcbbbb00>,\n",
       " 'говорить': <gensim.models.keyedvectors.Vocab at 0x7f14dcbbbb38>,\n",
       " 'говорю': <gensim.models.keyedvectors.Vocab at 0x7f14dcbbbb70>,\n",
       " 'нём': <gensim.models.keyedvectors.Vocab at 0x7f14dcbbbba8>,\n",
       " 'могу': <gensim.models.keyedvectors.Vocab at 0x7f14dcbbbbe0>,\n",
       " 'территории': <gensim.models.keyedvectors.Vocab at 0x7f14dcbbbc18>,\n",
       " 'других': <gensim.models.keyedvectors.Vocab at 0x7f14dcbbbc50>,\n",
       " 'стран': <gensim.models.keyedvectors.Vocab at 0x7f14dcbbbc88>,\n",
       " 'всё': <gensim.models.keyedvectors.Vocab at 0x7f14dcbbbcc0>,\n",
       " 'равно': <gensim.models.keyedvectors.Vocab at 0x7f14dcbbbcf8>,\n",
       " 'поводу': <gensim.models.keyedvectors.Vocab at 0x7f14dcbbbd30>,\n",
       " 'никто': <gensim.models.keyedvectors.Vocab at 0x7f14dcbbbd68>,\n",
       " 'мало': <gensim.models.keyedvectors.Vocab at 0x7f14dcbbbda0>,\n",
       " 'скажу': <gensim.models.keyedvectors.Vocab at 0x7f14dcbbbdd8>,\n",
       " 'сказать': <gensim.models.keyedvectors.Vocab at 0x7f14dcbbbe10>,\n",
       " 'повторяю': <gensim.models.keyedvectors.Vocab at 0x7f14dcbbbe48>,\n",
       " 'говорил': <gensim.models.keyedvectors.Vocab at 0x7f14dcbbbe80>,\n",
       " 'объясните': <gensim.models.keyedvectors.Vocab at 0x7f14dcbbbeb8>,\n",
       " 'народа': <gensim.models.keyedvectors.Vocab at 0x7f14dcbbbef0>,\n",
       " 'почему': <gensim.models.keyedvectors.Vocab at 0x7f14dcbbbf28>,\n",
       " 'войну': <gensim.models.keyedvectors.Vocab at 0x7f14dcbbbf60>,\n",
       " 'украинский': <gensim.models.keyedvectors.Vocab at 0x7f14dcbbbf98>,\n",
       " 'народ': <gensim.models.keyedvectors.Vocab at 0x7f14dcbbbfd0>,\n",
       " 'общества': <gensim.models.keyedvectors.Vocab at 0x7f14dcbc6cf8>,\n",
       " 'отличается': <gensim.models.keyedvectors.Vocab at 0x7f14dcbc6cc0>,\n",
       " 'нам': <gensim.models.keyedvectors.Vocab at 0x7f14dcbc67f0>,\n",
       " 'которая': <gensim.models.keyedvectors.Vocab at 0x7f14dcbc6048>,\n",
       " 'делают': <gensim.models.keyedvectors.Vocab at 0x7f14dcbc6128>,\n",
       " 'которых': <gensim.models.keyedvectors.Vocab at 0x7f14dcbc6240>,\n",
       " 'наш': <gensim.models.keyedvectors.Vocab at 0x7f14dcbc6208>,\n",
       " 'второй': <gensim.models.keyedvectors.Vocab at 0x7f14dcbc61d0>,\n",
       " 'сегодня': <gensim.models.keyedvectors.Vocab at 0x7f14dcbc65c0>,\n",
       " 'блин': <gensim.models.keyedvectors.Vocab at 0x7f14dcbc6518>,\n",
       " 'невозможно': <gensim.models.keyedvectors.Vocab at 0x7f14dcbc6198>,\n",
       " 'возможно': <gensim.models.keyedvectors.Vocab at 0x7f14dcbc6080>,\n",
       " '500': <gensim.models.keyedvectors.Vocab at 0x7f14dcbc66a0>,\n",
       " 'моё': <gensim.models.keyedvectors.Vocab at 0x7f14dcbc6828>,\n",
       " 'буду': <gensim.models.keyedvectors.Vocab at 0x7f14dcbc65f8>,\n",
       " 'кажется': <gensim.models.keyedvectors.Vocab at 0x7f14dcbc6630>,\n",
       " 'знаете': <gensim.models.keyedvectors.Vocab at 0x7f14dcbc6588>,\n",
       " 'президентом': <gensim.models.keyedvectors.Vocab at 0x7f14dcbc6668>,\n",
       " 'замечательный': <gensim.models.keyedvectors.Vocab at 0x7f14dcbc6160>,\n",
       " 'интернете': <gensim.models.keyedvectors.Vocab at 0x7f14dcbc64e0>,\n",
       " 'тех': <gensim.models.keyedvectors.Vocab at 0x7f14dcbc66d8>,\n",
       " 'чём': <gensim.models.keyedvectors.Vocab at 0x7f14dcbc6710>,\n",
       " 'владимир': <gensim.models.keyedvectors.Vocab at 0x7f14dcbc6860>,\n",
       " 'владимирович': <gensim.models.keyedvectors.Vocab at 0x7f14dcbc64a8>,\n",
       " 'путина': <gensim.models.keyedvectors.Vocab at 0x7f14dcbc6550>,\n",
       " 'желание': <gensim.models.keyedvectors.Vocab at 0x7f14dcbc62b0>,\n",
       " 'власть': <gensim.models.keyedvectors.Vocab at 0x7f14dcbc6898>,\n",
       " 'общем': <gensim.models.keyedvectors.Vocab at 0x7f14dcbc67b8>,\n",
       " 'стал': <gensim.models.keyedvectors.Vocab at 0x7f14dcbc6748>,\n",
       " 'первый': <gensim.models.keyedvectors.Vocab at 0x7f14dcbc6278>,\n",
       " 'президент': <gensim.models.keyedvectors.Vocab at 0x7f14dcbc62e8>,\n",
       " 'далее': <gensim.models.keyedvectors.Vocab at 0x7f14dcbc6780>,\n",
       " 'взгляд': <gensim.models.keyedvectors.Vocab at 0x7f14dcbc68d0>,\n",
       " 'украинцы': <gensim.models.keyedvectors.Vocab at 0x7f14dcbc6908>,\n",
       " 'кандидат': <gensim.models.keyedvectors.Vocab at 0x7f14dcbc6940>,\n",
       " 'стать': <gensim.models.keyedvectors.Vocab at 0x7f14dcbc6978>,\n",
       " 'президента': <gensim.models.keyedvectors.Vocab at 0x7f14dcbc69b0>,\n",
       " 'отношусь': <gensim.models.keyedvectors.Vocab at 0x7f14dcbc69e8>,\n",
       " 'первое': <gensim.models.keyedvectors.Vocab at 0x7f14dcbc6a20>,\n",
       " 'день': <gensim.models.keyedvectors.Vocab at 0x7f14dcbc6a58>,\n",
       " 'украина': <gensim.models.keyedvectors.Vocab at 0x7f14dcbc6a90>,\n",
       " 'во-первых': <gensim.models.keyedvectors.Vocab at 0x7f14dcbc6ac8>,\n",
       " 'слова': <gensim.models.keyedvectors.Vocab at 0x7f14dcbc6b00>,\n",
       " 'нормально': <gensim.models.keyedvectors.Vocab at 0x7f14dcbc6b38>,\n",
       " 'смешко': <gensim.models.keyedvectors.Vocab at 0x7f14dcbc6b70>,\n",
       " 'прошлом': <gensim.models.keyedvectors.Vocab at 0x7f14dcbc6ba8>,\n",
       " 'возглавлял': <gensim.models.keyedvectors.Vocab at 0x7f14dcbc6be0>,\n",
       " 'б/у': <gensim.models.keyedvectors.Vocab at 0x7f14dcbc6c18>,\n",
       " 'правильно': <gensim.models.keyedvectors.Vocab at 0x7f14dcbc6c50>,\n",
       " 'понимаю': <gensim.models.keyedvectors.Vocab at 0x7f14dcbc6c88>,\n",
       " 'руководил': <gensim.models.keyedvectors.Vocab at 0x7f14dcbc6d30>,\n",
       " 'страной': <gensim.models.keyedvectors.Vocab at 0x7f14dcbc6d68>,\n",
       " 'федерации': <gensim.models.keyedvectors.Vocab at 0x7f14dce832b0>,\n",
       " 'среда': <gensim.models.keyedvectors.Vocab at 0x7f14dce83518>,\n",
       " 'разрушает': <gensim.models.keyedvectors.Vocab at 0x7f14dce835f8>,\n",
       " 'говорим': <gensim.models.keyedvectors.Vocab at 0x7f14dce83630>,\n",
       " 'абсолютно': <gensim.models.keyedvectors.Vocab at 0x7f14dce83710>,\n",
       " 'путин': <gensim.models.keyedvectors.Vocab at 0x7f14dce83278>,\n",
       " 'история': <gensim.models.keyedvectors.Vocab at 0x7f14dce83668>,\n",
       " 'точки': <gensim.models.keyedvectors.Vocab at 0x7f14dce836a0>,\n",
       " 'зрения': <gensim.models.keyedvectors.Vocab at 0x7f14dce834a8>,\n",
       " 'году': <gensim.models.keyedvectors.Vocab at 0x7f14dce83748>,\n",
       " 'этому': <gensim.models.keyedvectors.Vocab at 0x7f14dce834e0>,\n",
       " 'большой': <gensim.models.keyedvectors.Vocab at 0x7f14dce83160>,\n",
       " 'имею': <gensim.models.keyedvectors.Vocab at 0x7f14dce83080>,\n",
       " 'россия': <gensim.models.keyedvectors.Vocab at 0x7f14dce836d8>,\n",
       " 'дважды': <gensim.models.keyedvectors.Vocab at 0x7f14dce83780>,\n",
       " 'язык': <gensim.models.keyedvectors.Vocab at 0x7f14dce837b8>,\n",
       " 'янукович': <gensim.models.keyedvectors.Vocab at 0x7f14dce837f0>,\n",
       " 'мвд': <gensim.models.keyedvectors.Vocab at 0x7f14dce83828>,\n",
       " 'могли': <gensim.models.keyedvectors.Vocab at 0x7f14dce83860>,\n",
       " 'говорили': <gensim.models.keyedvectors.Vocab at 0x7f14dce83898>,\n",
       " 'ющенко': <gensim.models.keyedvectors.Vocab at 0x7f14dce838d0>,\n",
       " 'момент': <gensim.models.keyedvectors.Vocab at 0x7f14dce83908>,\n",
       " 'встал': <gensim.models.keyedvectors.Vocab at 0x7f14dce83940>,\n",
       " 'приехал': <gensim.models.keyedvectors.Vocab at 0x7f14dce83978>,\n",
       " 'некоторые': <gensim.models.keyedvectors.Vocab at 0x7f14dce839b0>,\n",
       " 'знали': <gensim.models.keyedvectors.Vocab at 0x7f14dce839e8>,\n",
       " 'недавно': <gensim.models.keyedvectors.Vocab at 0x7f14dce83a20>,\n",
       " 'говорит': <gensim.models.keyedvectors.Vocab at 0x7f14dce83a58>,\n",
       " 'думал': <gensim.models.keyedvectors.Vocab at 0x7f14dce83a90>,\n",
       " 'чемпионат': <gensim.models.keyedvectors.Vocab at 0x7f14dce83ac8>,\n",
       " 'братья': <gensim.models.keyedvectors.Vocab at 0x7f14dce83b00>,\n",
       " 'российский': <gensim.models.keyedvectors.Vocab at 0x7f14dce83b38>,\n",
       " 'значит': <gensim.models.keyedvectors.Vocab at 0x7f14dce83b70>,\n",
       " 'россияне': <gensim.models.keyedvectors.Vocab at 0x7f14dce83ba8>,\n",
       " 'разных': <gensim.models.keyedvectors.Vocab at 0x7f14dce83be0>,\n",
       " 'белорусы': <gensim.models.keyedvectors.Vocab at 0x7f14dce83c18>,\n",
       " 'преступление': <gensim.models.keyedvectors.Vocab at 0x7f14dce83c50>,\n",
       " 'из-за': <gensim.models.keyedvectors.Vocab at 0x7f14dce83c88>,\n",
       " 'территорию': <gensim.models.keyedvectors.Vocab at 0x7f14dce83cc0>,\n",
       " 'пришла': <gensim.models.keyedvectors.Vocab at 0x7f14dce83cf8>,\n",
       " 'трудный': <gensim.models.keyedvectors.Vocab at 0x7f14dce83d30>,\n",
       " 'крым': <gensim.models.keyedvectors.Vocab at 0x7f14dce83d68>,\n",
       " 'понимаете': <gensim.models.keyedvectors.Vocab at 0x7f14dce83da0>,\n",
       " 'часть': <gensim.models.keyedvectors.Vocab at 0x7f14dce83dd8>,\n",
       " 'людям': <gensim.models.keyedvectors.Vocab at 0x7f14dce83e10>,\n",
       " 'понимают': <gensim.models.keyedvectors.Vocab at 0x7f14dce83e48>,\n",
       " 'войны': <gensim.models.keyedvectors.Vocab at 0x7f14dce83e80>,\n",
       " 'прихожу': <gensim.models.keyedvectors.Vocab at 0x7f14dce83eb8>,\n",
       " 'частью': <gensim.models.keyedvectors.Vocab at 0x7f14dce83ef0>,\n",
       " 'крыма': <gensim.models.keyedvectors.Vocab at 0x7f14dce83f28>,\n",
       " 'хотели': <gensim.models.keyedvectors.Vocab at 0x7f14dce83f60>,\n",
       " 'друг': <gensim.models.keyedvectors.Vocab at 0x7f14dce83f98>,\n",
       " 'украинская': <gensim.models.keyedvectors.Vocab at 0x7f14dce83fd0>,\n",
       " 'являются': <gensim.models.keyedvectors.Vocab at 0x7f14dcb55048>,\n",
       " 'крымчан': <gensim.models.keyedvectors.Vocab at 0x7f14dcb55080>,\n",
       " 'текст': <gensim.models.keyedvectors.Vocab at 0x7f14dcb550b8>,\n",
       " 'коротко': <gensim.models.keyedvectors.Vocab at 0x7f14dcb550f0>,\n",
       " 'отдать': <gensim.models.keyedvectors.Vocab at 0x7f14dcb55128>,\n",
       " 'появились': <gensim.models.keyedvectors.Vocab at 0x7f14dcb55160>,\n",
       " 'крыму': <gensim.models.keyedvectors.Vocab at 0x7f14dcb55198>,\n",
       " 'стороны': <gensim.models.keyedvectors.Vocab at 0x7f14dcb551d0>,\n",
       " 'украинской': <gensim.models.keyedvectors.Vocab at 0x7f14dcb55208>,\n",
       " 'причинам': <gensim.models.keyedvectors.Vocab at 0x7f14dcb55240>,\n",
       " 'альфа': <gensim.models.keyedvectors.Vocab at 0x7f14dcb55278>,\n",
       " 'причина': <gensim.models.keyedvectors.Vocab at 0x7f14dcb552b0>,\n",
       " 'заранее': <gensim.models.keyedvectors.Vocab at 0x7f14dcb552e8>,\n",
       " '94': <gensim.models.keyedvectors.Vocab at 0x7f14dcb55320>,\n",
       " 'гражданин': <gensim.models.keyedvectors.Vocab at 0x7f14dcb55358>,\n",
       " 'ельцин': <gensim.models.keyedvectors.Vocab at 0x7f14dcb55390>,\n",
       " 'виновата': <gensim.models.keyedvectors.Vocab at 0x7f14dcb553c8>,\n",
       " 'её': <gensim.models.keyedvectors.Vocab at 0x7f14dcb55400>,\n",
       " 'захватом': <gensim.models.keyedvectors.Vocab at 0x7f14dcb55438>,\n",
       " 'обороны': <gensim.models.keyedvectors.Vocab at 0x7f14dcb55470>,\n",
       " 'знал': <gensim.models.keyedvectors.Vocab at 0x7f14dcb554a8>,\n",
       " 'прийти': <gensim.models.keyedvectors.Vocab at 0x7f14dcb554e0>,\n",
       " 'забрать': <gensim.models.keyedvectors.Vocab at 0x7f14dcb55518>,\n",
       " 'знаем': <gensim.models.keyedvectors.Vocab at 0x7f14dcb55550>,\n",
       " 'чемпионата': <gensim.models.keyedvectors.Vocab at 0x7f14dcb55588>,\n",
       " '200': <gensim.models.keyedvectors.Vocab at 0x7f14dcb555c0>,\n",
       " 'долларов': <gensim.models.keyedvectors.Vocab at 0x7f14dcb555f8>,\n",
       " 'действительно': <gensim.models.keyedvectors.Vocab at 0x7f14dcb55630>,\n",
       " 'фифа': <gensim.models.keyedvectors.Vocab at 0x7f14dcb55668>,\n",
       " 'сомневался': <gensim.models.keyedvectors.Vocab at 0x7f14dcb556a0>,\n",
       " 'бабченко': <gensim.models.keyedvectors.Vocab at 0x7f14dcb556d8>}"
      ]
     },
     "execution_count": 63,
     "metadata": {},
     "output_type": "execute_result"
    }
   ],
   "source": [
    "model.wv.vocab"
   ]
  },
  {
   "cell_type": "code",
   "execution_count": 64,
   "metadata": {},
   "outputs": [
    {
     "data": {
      "text/plain": [
       "[array([ 1.0114988e-02,  1.0283422e-02, -7.6029478e-03,  7.6749474e-03,\n",
       "        -1.1138117e-02,  8.4467074e-03, -8.1775896e-03, -2.3438225e-03,\n",
       "        -6.2006842e-03, -5.1858430e-03,  9.5886188e-03,  6.7679037e-04,\n",
       "        -4.7054570e-03, -6.5293941e-03,  7.8719360e-04, -5.5366778e-03,\n",
       "         2.6090550e-03,  9.4614988e-03, -4.9308022e-03,  8.9907041e-03,\n",
       "         5.9430534e-03,  1.2019658e-03, -6.3871947e-04,  8.0914861e-03,\n",
       "         8.1921397e-03, -7.5835893e-03,  8.6571760e-03,  7.1957642e-03,\n",
       "         2.8422438e-03, -4.3068084e-04,  7.4822013e-04, -8.6634504e-03,\n",
       "        -4.0765391e-03,  1.5294854e-05, -1.4949703e-03,  3.9984584e-03,\n",
       "         8.3919642e-03, -5.7147550e-03, -4.4320505e-03, -7.6206676e-03,\n",
       "         3.8003556e-03, -1.1389580e-02, -5.9444685e-03,  4.6900404e-03,\n",
       "        -2.3879665e-03,  8.1651146e-03, -9.1546541e-03,  3.4984582e-04,\n",
       "         9.2595657e-03, -6.1629759e-03], dtype=float32),\n",
       " array([ 0.01021524,  0.00344352,  0.00098531, -0.00333985,  0.00463316,\n",
       "        -0.00885448, -0.00407412,  0.00153347,  0.00940224,  0.00060556,\n",
       "        -0.00350889, -0.01036468,  0.00274814, -0.00957863, -0.00734265,\n",
       "         0.00298994, -0.00688125, -0.00656793,  0.0039595 , -0.00334294,\n",
       "         0.00878133,  0.00304868,  0.00657021,  0.00365647,  0.00720546,\n",
       "        -0.00335334, -0.00040324, -0.00992529,  0.00597018, -0.00565129,\n",
       "        -0.00976896, -0.01116462, -0.00211184, -0.00915305,  0.00159232,\n",
       "         0.0055986 ,  0.01007733,  0.00193037, -0.00131321, -0.00545285,\n",
       "         0.00385355, -0.00904099,  0.0034163 ,  0.00752228, -0.00260271,\n",
       "        -0.00734926,  0.00517387,  0.00396242,  0.01021952,  0.004332  ],\n",
       "       dtype=float32),\n",
       " array([ 0.01021524,  0.00344352,  0.00098531, -0.00333985,  0.00463316,\n",
       "        -0.00885448, -0.00407412,  0.00153347,  0.00940224,  0.00060556,\n",
       "        -0.00350889, -0.01036468,  0.00274814, -0.00957863, -0.00734265,\n",
       "         0.00298994, -0.00688125, -0.00656793,  0.0039595 , -0.00334294,\n",
       "         0.00878133,  0.00304868,  0.00657021,  0.00365647,  0.00720546,\n",
       "        -0.00335334, -0.00040324, -0.00992529,  0.00597018, -0.00565129,\n",
       "        -0.00976896, -0.01116462, -0.00211184, -0.00915305,  0.00159232,\n",
       "         0.0055986 ,  0.01007733,  0.00193037, -0.00131321, -0.00545285,\n",
       "         0.00385355, -0.00904099,  0.0034163 ,  0.00752228, -0.00260271,\n",
       "        -0.00734926,  0.00517387,  0.00396242,  0.01021952,  0.004332  ],\n",
       "       dtype=float32),\n",
       " array([-0.00175415,  0.00680285, -0.00057083,  0.00202985,  0.0015455 ,\n",
       "        -0.00489726,  0.00904456,  0.00580469,  0.00365039, -0.00770534,\n",
       "         0.01191826,  0.00486772, -0.00058288, -0.01511288,  0.00260422,\n",
       "         0.009013  ,  0.00785236,  0.00963882,  0.00617636, -0.00645765,\n",
       "        -0.00749416,  0.00610494, -0.00200815,  0.00377083,  0.00547813,\n",
       "         0.00445958, -0.00105852, -0.01154492,  0.00745425, -0.00344234,\n",
       "        -0.0069454 , -0.00057228, -0.00135426, -0.00757996,  0.00739179,\n",
       "         0.00367299,  0.00696332,  0.00570873,  0.00349532, -0.0043133 ,\n",
       "         0.00648916, -0.00534768,  0.00207374, -0.00635026, -0.00398922,\n",
       "        -0.00301099,  0.01126842, -0.00752876,  0.00616441,  0.00349816],\n",
       "       dtype=float32),\n",
       " array([-0.00348018,  0.00531427, -0.00832312,  0.0099914 ,  0.00741996,\n",
       "        -0.00947213, -0.0023974 ,  0.00283462, -0.00684781,  0.00870068,\n",
       "         0.00793334,  0.00242453,  0.00976428, -0.00114287, -0.00163826,\n",
       "        -0.00535434, -0.00280543, -0.00573807,  0.00687921,  0.00454741,\n",
       "        -0.00146984,  0.00671753,  0.00092312,  0.00465841, -0.00899306,\n",
       "         0.00280584, -0.00224971, -0.00786662, -0.00663948, -0.00028695,\n",
       "         0.00733496, -0.00459128, -0.00469817,  0.00408525,  0.001456  ,\n",
       "         0.00209606, -0.00509768, -0.00556817, -0.00101125,  0.00171343,\n",
       "         0.00786139, -0.00578595,  0.00531369,  0.00845356,  0.00061239,\n",
       "         0.00097389,  0.0024782 , -0.00165793,  0.00810693, -0.01056332],\n",
       "       dtype=float32)]"
      ]
     },
     "execution_count": 64,
     "metadata": {},
     "output_type": "execute_result"
    }
   ],
   "source": [
    "word_vectors = [model.wv[token] for token in filtered_tokens if token in model.wv.vocab]\n",
    "word_vectors[:5]"
   ]
  },
  {
   "cell_type": "code",
   "execution_count": 74,
   "metadata": {},
   "outputs": [],
   "source": [
    "from sklearn.cluster import KMeans\n",
    "kmeans = KMeans(n_clusters=20, random_state=0).fit(word_vectors)"
   ]
  },
  {
   "cell_type": "code",
   "execution_count": 75,
   "metadata": {},
   "outputs": [
    {
     "data": {
      "text/plain": [
       "Counter({19: 56,\n",
       "         11: 22,\n",
       "         3: 123,\n",
       "         12: 56,\n",
       "         2: 166,\n",
       "         0: 80,\n",
       "         8: 47,\n",
       "         10: 105,\n",
       "         16: 84,\n",
       "         7: 51,\n",
       "         9: 35,\n",
       "         18: 169,\n",
       "         14: 52,\n",
       "         17: 30,\n",
       "         1: 30,\n",
       "         6: 163,\n",
       "         13: 76,\n",
       "         4: 121,\n",
       "         5: 44,\n",
       "         15: 34})"
      ]
     },
     "execution_count": 75,
     "metadata": {},
     "output_type": "execute_result"
    }
   ],
   "source": [
    "from collections import Counter\n",
    "clusters_counter = Counter(kmeans.predict(word_vectors))\n",
    "clusters_counter"
   ]
  },
  {
   "cell_type": "code",
   "execution_count": 81,
   "metadata": {},
   "outputs": [
    {
     "name": "stdout",
     "output_type": "stream",
     "text": [
      "TOPIC_1 сказал история которого поэтому многие\n",
      "TOPIC_2 юрий россия моё чемпионата украине\n",
      "TOPIC_3 мира говорить ельцин этому слова\n",
      "TOPIC_4 это вещи говорить россию имею\n",
      "TOPIC_5 который сказать вообще вопрос украинцы\n",
      "TOPIC_6 говорю понимаю человека других дома\n",
      "TOPIC_7 знаю крыма считаю значит фифа\n",
      "TOPIC_8 человек происходит думаю дуть стран\n",
      "TOPIC_9 федерации фамилии людей путина власть\n",
      "TOPIC_10 чемпионат фсб этих программа сказали\n",
      "TOPIC_11 крым несколько страны украинский знаем\n",
      "TOPIC_12 году хочу руководители 500 причинам\n",
      "TOPIC_13 украины говорить украина могу правильно\n",
      "TOPIC_14 очень российской второе встал долларов\n",
      "TOPIC_15 всё власти действительно это спецслужб\n",
      "TOPIC_16 россии руководил первое считаю невозможно\n",
      "TOPIC_17 почему знаете россияне возможно лет\n",
      "TOPIC_18 люди говорил белорусы чём считаю\n",
      "TOPIC_19 которые первое отношусь сказал путина\n",
      "TOPIC_20 президентом ещё знали спецслужб сказали\n"
     ]
    }
   ],
   "source": [
    "for i, cluster in enumerate(sorted(clusters_counter, \n",
    "                                   key=lambda cluster: clusters_counter[cluster], reverse=True)):\n",
    "    cluster_vector = kmeans.cluster_centers_[cluster]\n",
    "    topic = model.wv.similar_by_vector(cluster_vector, topn=5, restrict_vocab=None)\n",
    "    print('TOPIC_' + str(i+1), *[word[0] for word in topic])"
   ]
  }
 ],
 "metadata": {
  "kernelspec": {
   "display_name": "Python 3",
   "language": "python",
   "name": "python3"
  },
  "language_info": {
   "codemirror_mode": {
    "name": "ipython",
    "version": 3
   },
   "file_extension": ".py",
   "mimetype": "text/x-python",
   "name": "python",
   "nbconvert_exporter": "python",
   "pygments_lexer": "ipython3",
   "version": "3.6.7"
  }
 },
 "nbformat": 4,
 "nbformat_minor": 2
}
